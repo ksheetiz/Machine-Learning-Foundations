{
 "cells": [
  {
   "cell_type": "code",
   "execution_count": 1,
   "id": "671d3ff9",
   "metadata": {},
   "outputs": [],
   "source": [
    "import turicreate as tc"
   ]
  },
  {
   "cell_type": "markdown",
   "id": "0a657764",
   "metadata": {},
   "source": [
    "# Load the CIFAR-10 dataset"
   ]
  },
  {
   "cell_type": "code",
   "execution_count": 2,
   "id": "74e41d0c",
   "metadata": {},
   "outputs": [],
   "source": [
    "image_train = tc.SFrame('image_train_data/')"
   ]
  },
  {
   "cell_type": "code",
   "execution_count": 3,
   "id": "06679708",
   "metadata": {},
   "outputs": [
    {
     "data": {
      "text/html": [
       "<div style=\"max-height:1000px;max-width:1500px;overflow:auto;\"><table frame=\"box\" rules=\"cols\">\n",
       "    <tr>\n",
       "        <th style=\"padding-left: 1em; padding-right: 1em; text-align: center\">id</th>\n",
       "        <th style=\"padding-left: 1em; padding-right: 1em; text-align: center\">image</th>\n",
       "        <th style=\"padding-left: 1em; padding-right: 1em; text-align: center\">label</th>\n",
       "        <th style=\"padding-left: 1em; padding-right: 1em; text-align: center\">deep_features</th>\n",
       "        <th style=\"padding-left: 1em; padding-right: 1em; text-align: center\">image_array</th>\n",
       "    </tr>\n",
       "    <tr>\n",
       "        <td style=\"padding-left: 1em; padding-right: 1em; text-align: center; vertical-align: top\">24</td>\n",
       "        <td style=\"padding-left: 1em; padding-right: 1em; text-align: center; vertical-align: top\">Height: 32 Width: 32</td>\n",
       "        <td style=\"padding-left: 1em; padding-right: 1em; text-align: center; vertical-align: top\">bird</td>\n",
       "        <td style=\"padding-left: 1em; padding-right: 1em; text-align: center; vertical-align: top\">[0.24287176132202148,<br>1.0954537391662598, 0.0, ...</td>\n",
       "        <td style=\"padding-left: 1em; padding-right: 1em; text-align: center; vertical-align: top\">[73.0, 77.0, 58.0, 71.0,<br>68.0, 50.0, 77.0, 69.0, ...</td>\n",
       "    </tr>\n",
       "    <tr>\n",
       "        <td style=\"padding-left: 1em; padding-right: 1em; text-align: center; vertical-align: top\">33</td>\n",
       "        <td style=\"padding-left: 1em; padding-right: 1em; text-align: center; vertical-align: top\">Height: 32 Width: 32</td>\n",
       "        <td style=\"padding-left: 1em; padding-right: 1em; text-align: center; vertical-align: top\">cat</td>\n",
       "        <td style=\"padding-left: 1em; padding-right: 1em; text-align: center; vertical-align: top\">[0.5250879526138306, 0.0,<br>0.0, 0.0, 0.0, 0.0, ...</td>\n",
       "        <td style=\"padding-left: 1em; padding-right: 1em; text-align: center; vertical-align: top\">[7.0, 5.0, 8.0, 7.0, 5.0,<br>8.0, 5.0, 4.0, 6.0, 7.0, ...</td>\n",
       "    </tr>\n",
       "    <tr>\n",
       "        <td style=\"padding-left: 1em; padding-right: 1em; text-align: center; vertical-align: top\">36</td>\n",
       "        <td style=\"padding-left: 1em; padding-right: 1em; text-align: center; vertical-align: top\">Height: 32 Width: 32</td>\n",
       "        <td style=\"padding-left: 1em; padding-right: 1em; text-align: center; vertical-align: top\">cat</td>\n",
       "        <td style=\"padding-left: 1em; padding-right: 1em; text-align: center; vertical-align: top\">[0.5660159587860107, 0.0,<br>0.0, 0.0, 0.0, 0.0, ...</td>\n",
       "        <td style=\"padding-left: 1em; padding-right: 1em; text-align: center; vertical-align: top\">[169.0, 122.0, 65.0,<br>131.0, 108.0, 75.0, ...</td>\n",
       "    </tr>\n",
       "    <tr>\n",
       "        <td style=\"padding-left: 1em; padding-right: 1em; text-align: center; vertical-align: top\">70</td>\n",
       "        <td style=\"padding-left: 1em; padding-right: 1em; text-align: center; vertical-align: top\">Height: 32 Width: 32</td>\n",
       "        <td style=\"padding-left: 1em; padding-right: 1em; text-align: center; vertical-align: top\">dog</td>\n",
       "        <td style=\"padding-left: 1em; padding-right: 1em; text-align: center; vertical-align: top\">[1.129795789718628, 0.0,<br>0.0, 0.7781944870948792, ...</td>\n",
       "        <td style=\"padding-left: 1em; padding-right: 1em; text-align: center; vertical-align: top\">[154.0, 179.0, 152.0,<br>159.0, 183.0, 157.0, ...</td>\n",
       "    </tr>\n",
       "    <tr>\n",
       "        <td style=\"padding-left: 1em; padding-right: 1em; text-align: center; vertical-align: top\">90</td>\n",
       "        <td style=\"padding-left: 1em; padding-right: 1em; text-align: center; vertical-align: top\">Height: 32 Width: 32</td>\n",
       "        <td style=\"padding-left: 1em; padding-right: 1em; text-align: center; vertical-align: top\">bird</td>\n",
       "        <td style=\"padding-left: 1em; padding-right: 1em; text-align: center; vertical-align: top\">[1.7178692817687988, 0.0,<br>0.0, 0.0, 0.0, 0.0, ...</td>\n",
       "        <td style=\"padding-left: 1em; padding-right: 1em; text-align: center; vertical-align: top\">[216.0, 195.0, 180.0,<br>201.0, 178.0, 160.0, ...</td>\n",
       "    </tr>\n",
       "    <tr>\n",
       "        <td style=\"padding-left: 1em; padding-right: 1em; text-align: center; vertical-align: top\">97</td>\n",
       "        <td style=\"padding-left: 1em; padding-right: 1em; text-align: center; vertical-align: top\">Height: 32 Width: 32</td>\n",
       "        <td style=\"padding-left: 1em; padding-right: 1em; text-align: center; vertical-align: top\">automobile</td>\n",
       "        <td style=\"padding-left: 1em; padding-right: 1em; text-align: center; vertical-align: top\">[1.5781855583190918, 0.0,<br>0.0, 0.0, 0.0, 0.0, ...</td>\n",
       "        <td style=\"padding-left: 1em; padding-right: 1em; text-align: center; vertical-align: top\">[33.0, 44.0, 27.0, 29.0,<br>44.0, 31.0, 32.0, 45.0, ...</td>\n",
       "    </tr>\n",
       "    <tr>\n",
       "        <td style=\"padding-left: 1em; padding-right: 1em; text-align: center; vertical-align: top\">107</td>\n",
       "        <td style=\"padding-left: 1em; padding-right: 1em; text-align: center; vertical-align: top\">Height: 32 Width: 32</td>\n",
       "        <td style=\"padding-left: 1em; padding-right: 1em; text-align: center; vertical-align: top\">dog</td>\n",
       "        <td style=\"padding-left: 1em; padding-right: 1em; text-align: center; vertical-align: top\">[0.0, 0.0,<br>0.22067785263061523,  ...</td>\n",
       "        <td style=\"padding-left: 1em; padding-right: 1em; text-align: center; vertical-align: top\">[97.0, 51.0, 31.0, 104.0,<br>58.0, 38.0, 107.0, 61.0, ...</td>\n",
       "    </tr>\n",
       "    <tr>\n",
       "        <td style=\"padding-left: 1em; padding-right: 1em; text-align: center; vertical-align: top\">121</td>\n",
       "        <td style=\"padding-left: 1em; padding-right: 1em; text-align: center; vertical-align: top\">Height: 32 Width: 32</td>\n",
       "        <td style=\"padding-left: 1em; padding-right: 1em; text-align: center; vertical-align: top\">bird</td>\n",
       "        <td style=\"padding-left: 1em; padding-right: 1em; text-align: center; vertical-align: top\">[0.0,<br>0.23753464221954346,  ...</td>\n",
       "        <td style=\"padding-left: 1em; padding-right: 1em; text-align: center; vertical-align: top\">[93.0, 96.0, 88.0, 102.0,<br>106.0, 97.0, 117.0, ...</td>\n",
       "    </tr>\n",
       "    <tr>\n",
       "        <td style=\"padding-left: 1em; padding-right: 1em; text-align: center; vertical-align: top\">136</td>\n",
       "        <td style=\"padding-left: 1em; padding-right: 1em; text-align: center; vertical-align: top\">Height: 32 Width: 32</td>\n",
       "        <td style=\"padding-left: 1em; padding-right: 1em; text-align: center; vertical-align: top\">automobile</td>\n",
       "        <td style=\"padding-left: 1em; padding-right: 1em; text-align: center; vertical-align: top\">[0.0, 0.0, 0.0, 0.0, 0.0,<br>0.0, 7.57378625869751, ...</td>\n",
       "        <td style=\"padding-left: 1em; padding-right: 1em; text-align: center; vertical-align: top\">[35.0, 59.0, 53.0, 36.0,<br>56.0, 56.0, 42.0, 62.0, ...</td>\n",
       "    </tr>\n",
       "    <tr>\n",
       "        <td style=\"padding-left: 1em; padding-right: 1em; text-align: center; vertical-align: top\">138</td>\n",
       "        <td style=\"padding-left: 1em; padding-right: 1em; text-align: center; vertical-align: top\">Height: 32 Width: 32</td>\n",
       "        <td style=\"padding-left: 1em; padding-right: 1em; text-align: center; vertical-align: top\">bird</td>\n",
       "        <td style=\"padding-left: 1em; padding-right: 1em; text-align: center; vertical-align: top\">[0.6589357256889343, 0.0,<br>0.0, 0.0, 0.0, 0.0, ...</td>\n",
       "        <td style=\"padding-left: 1em; padding-right: 1em; text-align: center; vertical-align: top\">[205.0, 193.0, 195.0,<br>200.0, 187.0, 193.0, ...</td>\n",
       "    </tr>\n",
       "</table>\n",
       "[10 rows x 5 columns]<br/>\n",
       "</div>"
      ],
      "text/plain": [
       "Columns:\n",
       "\tid\tint\n",
       "\timage\tImage\n",
       "\tlabel\tstr\n",
       "\tdeep_features\tarray\n",
       "\timage_array\tarray\n",
       "\n",
       "Rows: 10\n",
       "\n",
       "Data:\n",
       "+-----+----------------------+------------+-------------------------------+\n",
       "|  id |        image         |   label    |         deep_features         |\n",
       "+-----+----------------------+------------+-------------------------------+\n",
       "|  24 | Height: 32 Width: 32 |    bird    | [0.24287176132202148, 1.09... |\n",
       "|  33 | Height: 32 Width: 32 |    cat     | [0.5250879526138306, 0.0, ... |\n",
       "|  36 | Height: 32 Width: 32 |    cat     | [0.5660159587860107, 0.0, ... |\n",
       "|  70 | Height: 32 Width: 32 |    dog     | [1.129795789718628, 0.0, 0... |\n",
       "|  90 | Height: 32 Width: 32 |    bird    | [1.7178692817687988, 0.0, ... |\n",
       "|  97 | Height: 32 Width: 32 | automobile | [1.5781855583190918, 0.0, ... |\n",
       "| 107 | Height: 32 Width: 32 |    dog     | [0.0, 0.0, 0.2206778526306... |\n",
       "| 121 | Height: 32 Width: 32 |    bird    | [0.0, 0.23753464221954346,... |\n",
       "| 136 | Height: 32 Width: 32 | automobile | [0.0, 0.0, 0.0, 0.0, 0.0, ... |\n",
       "| 138 | Height: 32 Width: 32 |    bird    | [0.6589357256889343, 0.0, ... |\n",
       "+-----+----------------------+------------+-------------------------------+\n",
       "+-------------------------------+\n",
       "|          image_array          |\n",
       "+-------------------------------+\n",
       "| [73.0, 77.0, 58.0, 71.0, 6... |\n",
       "| [7.0, 5.0, 8.0, 7.0, 5.0, ... |\n",
       "| [169.0, 122.0, 65.0, 131.0... |\n",
       "| [154.0, 179.0, 152.0, 159.... |\n",
       "| [216.0, 195.0, 180.0, 201.... |\n",
       "| [33.0, 44.0, 27.0, 29.0, 4... |\n",
       "| [97.0, 51.0, 31.0, 104.0, ... |\n",
       "| [93.0, 96.0, 88.0, 102.0, ... |\n",
       "| [35.0, 59.0, 53.0, 36.0, 5... |\n",
       "| [205.0, 193.0, 195.0, 200.... |\n",
       "+-------------------------------+\n",
       "[10 rows x 5 columns]"
      ]
     },
     "execution_count": 3,
     "metadata": {},
     "output_type": "execute_result"
    }
   ],
   "source": [
    "image_train.head()"
   ]
  },
  {
   "cell_type": "markdown",
   "id": "d5924525",
   "metadata": {},
   "source": [
    "# Train a nearest-neighbours model for retrieving images using deep features"
   ]
  },
  {
   "cell_type": "code",
   "execution_count": 6,
   "id": "94fa2193",
   "metadata": {},
   "outputs": [
    {
     "data": {
      "text/html": [
       "<pre>Starting brute force nearest neighbors model training.</pre>"
      ],
      "text/plain": [
       "Starting brute force nearest neighbors model training."
      ]
     },
     "metadata": {},
     "output_type": "display_data"
    },
    {
     "data": {
      "text/html": [
       "<pre>Validating distance components.</pre>"
      ],
      "text/plain": [
       "Validating distance components."
      ]
     },
     "metadata": {},
     "output_type": "display_data"
    },
    {
     "data": {
      "text/html": [
       "<pre>Initializing model data.</pre>"
      ],
      "text/plain": [
       "Initializing model data."
      ]
     },
     "metadata": {},
     "output_type": "display_data"
    },
    {
     "data": {
      "text/html": [
       "<pre>Initializing distances.</pre>"
      ],
      "text/plain": [
       "Initializing distances."
      ]
     },
     "metadata": {},
     "output_type": "display_data"
    },
    {
     "data": {
      "text/html": [
       "<pre>Done.</pre>"
      ],
      "text/plain": [
       "Done."
      ]
     },
     "metadata": {},
     "output_type": "display_data"
    }
   ],
   "source": [
    "knn_model = tc.nearest_neighbors.create(image_train,features=['deep_features'],\n",
    "                                        label = 'id')"
   ]
  },
  {
   "cell_type": "markdown",
   "id": "cbbbe671",
   "metadata": {},
   "source": [
    "# Using image retrieval model with deep features to find similar images"
   ]
  },
  {
   "cell_type": "code",
   "execution_count": 7,
   "id": "d4f53cf5",
   "metadata": {},
   "outputs": [],
   "source": [
    "cat = image_train[18:19]"
   ]
  },
  {
   "cell_type": "code",
   "execution_count": 9,
   "id": "e64d7311",
   "metadata": {},
   "outputs": [
    {
     "data": {
      "text/html": [
       "<html lang=\"en\">                                                     <head>                                                               <style>                                                              .sframe {                                                            font-size: 12px;                                                   font-family: HelveticaNeue;                                        border: 1px solid silver;                                        }                                                                  .sframe thead th {                                                   background: #F7F7F7;                                               font-family: HelveticaNeue-Medium;                                 font-size: 14px;                                                   line-height: 16.8px;                                               padding-top: 16px;                                                 padding-bottom: 16px;                                              padding-left: 10px;                                                padding-right: 38px;                                               border-top: 1px solid #E9E9E9;                                     border-bottom: 1px solid #E9E9E9;                                  white-space: nowrap;                                               overflow: hidden;                                                  text-overflow:ellipsis;                                            text-align:center;                                                 font-weight:normal;                                              }                                                                  .sframe tbody th {                                                   background: #FFFFFF;                                               text-align:left;                                                   font-weight:normal;                                                border-right: 1px solid #E9E9E9;                                 }                                                                  .sframe td {                                                         background: #FFFFFF;                                               padding-left: 10px;                                                padding-right: 38px;                                               padding-top: 14px;                                                 padding-bottom: 14px;                                              border-bottom: 1px solid #E9E9E9;                                  max-height: 0px;                                                   transition: max-height 5s ease-out;                                vertical-align: middle;                                            font-family: HelveticaNeue;                                        font-size: 12px;                                                   line-height: 16.8px;                                               background: #FFFFFF;                                             }                                                                  .sframe tr {                                                         padding-left: 10px;                                                padding-right: 38px;                                               padding-top: 14px;                                                 padding-bottom: 14px;                                              border-bottom: 1px solid #E9E9E9;                                  max-height: 0px;                                                   transition: max-height 5s ease-out;                                vertical-align: middle;                                            font-family: HelveticaNeue;                                        font-size: 12px;                                                   line-height: 16.8px;                                               background: #FFFFFF;                                             }                                                                  .sframe tr:hover {                                                   background: silver;                                              },                                                               </style>                                                         </head>                                                            <body>                                                               <h1>  </h1>                                             <table border=\"1\" class=\"dataframe sframe\">\n",
       "  <thead>\n",
       "    <tr style=\"text-align: right;\">\n",
       "      <th></th>\n",
       "      <th>SArray</th>\n",
       "    </tr>\n",
       "  </thead>\n",
       "  <tbody>\n",
       "    <tr>\n",
       "      <th>0</th>\n",
       "      <td><img src=\"data:image/png;base64,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\"/></td>\n",
       "    </tr>\n",
       "  </tbody>\n",
       "</table>                          </body>                                                          </html>"
      ],
      "text/plain": [
       "<IPython.core.display.HTML object>"
      ]
     },
     "metadata": {},
     "output_type": "display_data"
    }
   ],
   "source": [
    "cat['image'].explore()"
   ]
  },
  {
   "cell_type": "code",
   "execution_count": 10,
   "id": "589ea2f4",
   "metadata": {},
   "outputs": [
    {
     "data": {
      "text/html": [
       "<pre>Starting pairwise querying.</pre>"
      ],
      "text/plain": [
       "Starting pairwise querying."
      ]
     },
     "metadata": {},
     "output_type": "display_data"
    },
    {
     "data": {
      "text/html": [
       "<pre>+--------------+---------+-------------+--------------+</pre>"
      ],
      "text/plain": [
       "+--------------+---------+-------------+--------------+"
      ]
     },
     "metadata": {},
     "output_type": "display_data"
    },
    {
     "data": {
      "text/html": [
       "<pre>| Query points | # Pairs | % Complete. | Elapsed Time |</pre>"
      ],
      "text/plain": [
       "| Query points | # Pairs | % Complete. | Elapsed Time |"
      ]
     },
     "metadata": {},
     "output_type": "display_data"
    },
    {
     "data": {
      "text/html": [
       "<pre>+--------------+---------+-------------+--------------+</pre>"
      ],
      "text/plain": [
       "+--------------+---------+-------------+--------------+"
      ]
     },
     "metadata": {},
     "output_type": "display_data"
    },
    {
     "data": {
      "text/html": [
       "<pre>| 0            | 1       | 0.0498753   | 54.932ms     |</pre>"
      ],
      "text/plain": [
       "| 0            | 1       | 0.0498753   | 54.932ms     |"
      ]
     },
     "metadata": {},
     "output_type": "display_data"
    },
    {
     "data": {
      "text/html": [
       "<pre>| Done         |         | 100         | 106.979ms    |</pre>"
      ],
      "text/plain": [
       "| Done         |         | 100         | 106.979ms    |"
      ]
     },
     "metadata": {},
     "output_type": "display_data"
    },
    {
     "data": {
      "text/html": [
       "<pre>+--------------+---------+-------------+--------------+</pre>"
      ],
      "text/plain": [
       "+--------------+---------+-------------+--------------+"
      ]
     },
     "metadata": {},
     "output_type": "display_data"
    },
    {
     "data": {
      "text/html": [
       "<div style=\"max-height:1000px;max-width:1500px;overflow:auto;\"><table frame=\"box\" rules=\"cols\">\n",
       "    <tr>\n",
       "        <th style=\"padding-left: 1em; padding-right: 1em; text-align: center\">query_label</th>\n",
       "        <th style=\"padding-left: 1em; padding-right: 1em; text-align: center\">reference_label</th>\n",
       "        <th style=\"padding-left: 1em; padding-right: 1em; text-align: center\">distance</th>\n",
       "        <th style=\"padding-left: 1em; padding-right: 1em; text-align: center\">rank</th>\n",
       "    </tr>\n",
       "    <tr>\n",
       "        <td style=\"padding-left: 1em; padding-right: 1em; text-align: center; vertical-align: top\">0</td>\n",
       "        <td style=\"padding-left: 1em; padding-right: 1em; text-align: center; vertical-align: top\">384</td>\n",
       "        <td style=\"padding-left: 1em; padding-right: 1em; text-align: center; vertical-align: top\">0.0</td>\n",
       "        <td style=\"padding-left: 1em; padding-right: 1em; text-align: center; vertical-align: top\">1</td>\n",
       "    </tr>\n",
       "    <tr>\n",
       "        <td style=\"padding-left: 1em; padding-right: 1em; text-align: center; vertical-align: top\">0</td>\n",
       "        <td style=\"padding-left: 1em; padding-right: 1em; text-align: center; vertical-align: top\">6910</td>\n",
       "        <td style=\"padding-left: 1em; padding-right: 1em; text-align: center; vertical-align: top\">36.94031379506751</td>\n",
       "        <td style=\"padding-left: 1em; padding-right: 1em; text-align: center; vertical-align: top\">2</td>\n",
       "    </tr>\n",
       "    <tr>\n",
       "        <td style=\"padding-left: 1em; padding-right: 1em; text-align: center; vertical-align: top\">0</td>\n",
       "        <td style=\"padding-left: 1em; padding-right: 1em; text-align: center; vertical-align: top\">39777</td>\n",
       "        <td style=\"padding-left: 1em; padding-right: 1em; text-align: center; vertical-align: top\">38.46348889747021</td>\n",
       "        <td style=\"padding-left: 1em; padding-right: 1em; text-align: center; vertical-align: top\">3</td>\n",
       "    </tr>\n",
       "    <tr>\n",
       "        <td style=\"padding-left: 1em; padding-right: 1em; text-align: center; vertical-align: top\">0</td>\n",
       "        <td style=\"padding-left: 1em; padding-right: 1em; text-align: center; vertical-align: top\">36870</td>\n",
       "        <td style=\"padding-left: 1em; padding-right: 1em; text-align: center; vertical-align: top\">39.75596231189652</td>\n",
       "        <td style=\"padding-left: 1em; padding-right: 1em; text-align: center; vertical-align: top\">4</td>\n",
       "    </tr>\n",
       "    <tr>\n",
       "        <td style=\"padding-left: 1em; padding-right: 1em; text-align: center; vertical-align: top\">0</td>\n",
       "        <td style=\"padding-left: 1em; padding-right: 1em; text-align: center; vertical-align: top\">41734</td>\n",
       "        <td style=\"padding-left: 1em; padding-right: 1em; text-align: center; vertical-align: top\">39.786601414815024</td>\n",
       "        <td style=\"padding-left: 1em; padding-right: 1em; text-align: center; vertical-align: top\">5</td>\n",
       "    </tr>\n",
       "</table>\n",
       "[5 rows x 4 columns]<br/>\n",
       "</div>"
      ],
      "text/plain": [
       "Columns:\n",
       "\tquery_label\tint\n",
       "\treference_label\tint\n",
       "\tdistance\tfloat\n",
       "\trank\tint\n",
       "\n",
       "Rows: 5\n",
       "\n",
       "Data:\n",
       "+-------------+-----------------+--------------------+------+\n",
       "| query_label | reference_label |      distance      | rank |\n",
       "+-------------+-----------------+--------------------+------+\n",
       "|      0      |       384       |        0.0         |  1   |\n",
       "|      0      |       6910      | 36.94031379506751  |  2   |\n",
       "|      0      |      39777      | 38.46348889747021  |  3   |\n",
       "|      0      |      36870      | 39.75596231189652  |  4   |\n",
       "|      0      |      41734      | 39.786601414815024 |  5   |\n",
       "+-------------+-----------------+--------------------+------+\n",
       "[5 rows x 4 columns]"
      ]
     },
     "execution_count": 10,
     "metadata": {},
     "output_type": "execute_result"
    }
   ],
   "source": [
    "knn_model.query(cat)"
   ]
  },
  {
   "cell_type": "code",
   "execution_count": 12,
   "id": "db7f368a",
   "metadata": {},
   "outputs": [],
   "source": [
    "def get_images_from_ids(query_result):\n",
    "    return image_train.filter_by(query_result['reference_label'],'id')"
   ]
  },
  {
   "cell_type": "code",
   "execution_count": 13,
   "id": "59ac9ad5",
   "metadata": {},
   "outputs": [
    {
     "data": {
      "text/html": [
       "<pre>Starting pairwise querying.</pre>"
      ],
      "text/plain": [
       "Starting pairwise querying."
      ]
     },
     "metadata": {},
     "output_type": "display_data"
    },
    {
     "data": {
      "text/html": [
       "<pre>+--------------+---------+-------------+--------------+</pre>"
      ],
      "text/plain": [
       "+--------------+---------+-------------+--------------+"
      ]
     },
     "metadata": {},
     "output_type": "display_data"
    },
    {
     "data": {
      "text/html": [
       "<pre>| Query points | # Pairs | % Complete. | Elapsed Time |</pre>"
      ],
      "text/plain": [
       "| Query points | # Pairs | % Complete. | Elapsed Time |"
      ]
     },
     "metadata": {},
     "output_type": "display_data"
    },
    {
     "data": {
      "text/html": [
       "<pre>+--------------+---------+-------------+--------------+</pre>"
      ],
      "text/plain": [
       "+--------------+---------+-------------+--------------+"
      ]
     },
     "metadata": {},
     "output_type": "display_data"
    },
    {
     "data": {
      "text/html": [
       "<pre>| 0            | 1       | 0.0498753   | 7.819ms      |</pre>"
      ],
      "text/plain": [
       "| 0            | 1       | 0.0498753   | 7.819ms      |"
      ]
     },
     "metadata": {},
     "output_type": "display_data"
    },
    {
     "data": {
      "text/html": [
       "<pre>| Done         |         | 100         | 76.467ms     |</pre>"
      ],
      "text/plain": [
       "| Done         |         | 100         | 76.467ms     |"
      ]
     },
     "metadata": {},
     "output_type": "display_data"
    },
    {
     "data": {
      "text/html": [
       "<pre>+--------------+---------+-------------+--------------+</pre>"
      ],
      "text/plain": [
       "+--------------+---------+-------------+--------------+"
      ]
     },
     "metadata": {},
     "output_type": "display_data"
    }
   ],
   "source": [
    "cat_neighbors = get_images_from_ids(knn_model.query(cat))"
   ]
  },
  {
   "cell_type": "code",
   "execution_count": 15,
   "id": "db1c7b7a",
   "metadata": {},
   "outputs": [
    {
     "data": {
      "text/html": [
       "<html lang=\"en\">                                                     <head>                                                               <style>                                                              .sframe {                                                            font-size: 12px;                                                   font-family: HelveticaNeue;                                        border: 1px solid silver;                                        }                                                                  .sframe thead th {                                                   background: #F7F7F7;                                               font-family: HelveticaNeue-Medium;                                 font-size: 14px;                                                   line-height: 16.8px;                                               padding-top: 16px;                                                 padding-bottom: 16px;                                              padding-left: 10px;                                                padding-right: 38px;                                               border-top: 1px solid #E9E9E9;                                     border-bottom: 1px solid #E9E9E9;                                  white-space: nowrap;                                               overflow: hidden;                                                  text-overflow:ellipsis;                                            text-align:center;                                                 font-weight:normal;                                              }                                                                  .sframe tbody th {                                                   background: #FFFFFF;                                               text-align:left;                                                   font-weight:normal;                                                border-right: 1px solid #E9E9E9;                                 }                                                                  .sframe td {                                                         background: #FFFFFF;                                               padding-left: 10px;                                                padding-right: 38px;                                               padding-top: 14px;                                                 padding-bottom: 14px;                                              border-bottom: 1px solid #E9E9E9;                                  max-height: 0px;                                                   transition: max-height 5s ease-out;                                vertical-align: middle;                                            font-family: HelveticaNeue;                                        font-size: 12px;                                                   line-height: 16.8px;                                               background: #FFFFFF;                                             }                                                                  .sframe tr {                                                         padding-left: 10px;                                                padding-right: 38px;                                               padding-top: 14px;                                                 padding-bottom: 14px;                                              border-bottom: 1px solid #E9E9E9;                                  max-height: 0px;                                                   transition: max-height 5s ease-out;                                vertical-align: middle;                                            font-family: HelveticaNeue;                                        font-size: 12px;                                                   line-height: 16.8px;                                               background: #FFFFFF;                                             }                                                                  .sframe tr:hover {                                                   background: silver;                                              },                                                               </style>                                                         </head>                                                            <body>                                                               <h1>  </h1>                                             <table border=\"1\" class=\"dataframe sframe\">\n",
       "  <thead>\n",
       "    <tr style=\"text-align: right;\">\n",
       "      <th></th>\n",
       "      <th>SArray</th>\n",
       "    </tr>\n",
       "  </thead>\n",
       "  <tbody>\n",
       "    <tr>\n",
       "      <th>0</th>\n",
       "      <td><img src=\"data:image/png;base64,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\"/></td>\n",
       "    </tr>\n",
       "    <tr>\n",
       "      <th>1</th>\n",
       "      <td><img src=\"data:image/png;base64,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\"/></td>\n",
       "    </tr>\n",
       "    <tr>\n",
       "      <th>2</th>\n",
       "      <td><img src=\"data:image/png;base64,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\"/></td>\n",
       "    </tr>\n",
       "    <tr>\n",
       "      <th>3</th>\n",
       "      <td><img src=\"data:image/png;base64,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\"/></td>\n",
       "    </tr>\n",
       "    <tr>\n",
       "      <th>4</th>\n",
       "      <td><img src=\"data:image/png;base64,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\"/></td>\n",
       "    </tr>\n",
       "  </tbody>\n",
       "</table>                          </body>                                                          </html>"
      ],
      "text/plain": [
       "<IPython.core.display.HTML object>"
      ]
     },
     "metadata": {},
     "output_type": "display_data"
    }
   ],
   "source": [
    "cat_neighbors['image'].explore()"
   ]
  },
  {
   "cell_type": "markdown",
   "id": "7f178516",
   "metadata": {},
   "source": [
    "# Find images similar to cars"
   ]
  },
  {
   "cell_type": "code",
   "execution_count": 17,
   "id": "4d90048b",
   "metadata": {},
   "outputs": [],
   "source": [
    "car = image_train[8:9]"
   ]
  },
  {
   "cell_type": "code",
   "execution_count": 18,
   "id": "5dc6056e",
   "metadata": {},
   "outputs": [
    {
     "data": {
      "text/html": [
       "<html lang=\"en\">                                                     <head>                                                               <style>                                                              .sframe {                                                            font-size: 12px;                                                   font-family: HelveticaNeue;                                        border: 1px solid silver;                                        }                                                                  .sframe thead th {                                                   background: #F7F7F7;                                               font-family: HelveticaNeue-Medium;                                 font-size: 14px;                                                   line-height: 16.8px;                                               padding-top: 16px;                                                 padding-bottom: 16px;                                              padding-left: 10px;                                                padding-right: 38px;                                               border-top: 1px solid #E9E9E9;                                     border-bottom: 1px solid #E9E9E9;                                  white-space: nowrap;                                               overflow: hidden;                                                  text-overflow:ellipsis;                                            text-align:center;                                                 font-weight:normal;                                              }                                                                  .sframe tbody th {                                                   background: #FFFFFF;                                               text-align:left;                                                   font-weight:normal;                                                border-right: 1px solid #E9E9E9;                                 }                                                                  .sframe td {                                                         background: #FFFFFF;                                               padding-left: 10px;                                                padding-right: 38px;                                               padding-top: 14px;                                                 padding-bottom: 14px;                                              border-bottom: 1px solid #E9E9E9;                                  max-height: 0px;                                                   transition: max-height 5s ease-out;                                vertical-align: middle;                                            font-family: HelveticaNeue;                                        font-size: 12px;                                                   line-height: 16.8px;                                               background: #FFFFFF;                                             }                                                                  .sframe tr {                                                         padding-left: 10px;                                                padding-right: 38px;                                               padding-top: 14px;                                                 padding-bottom: 14px;                                              border-bottom: 1px solid #E9E9E9;                                  max-height: 0px;                                                   transition: max-height 5s ease-out;                                vertical-align: middle;                                            font-family: HelveticaNeue;                                        font-size: 12px;                                                   line-height: 16.8px;                                               background: #FFFFFF;                                             }                                                                  .sframe tr:hover {                                                   background: silver;                                              },                                                               </style>                                                         </head>                                                            <body>                                                               <h1>  </h1>                                             <table border=\"1\" class=\"dataframe sframe\">\n",
       "  <thead>\n",
       "    <tr style=\"text-align: right;\">\n",
       "      <th></th>\n",
       "      <th>SArray</th>\n",
       "    </tr>\n",
       "  </thead>\n",
       "  <tbody>\n",
       "    <tr>\n",
       "      <th>0</th>\n",
       "      <td><img src=\"data:image/png;base64,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\"/></td>\n",
       "    </tr>\n",
       "  </tbody>\n",
       "</table>                          </body>                                                          </html>"
      ],
      "text/plain": [
       "<IPython.core.display.HTML object>"
      ]
     },
     "metadata": {},
     "output_type": "display_data"
    }
   ],
   "source": [
    "car['image'].explore()"
   ]
  },
  {
   "cell_type": "code",
   "execution_count": 19,
   "id": "e794c9a6",
   "metadata": {},
   "outputs": [
    {
     "data": {
      "text/html": [
       "<pre>Starting pairwise querying.</pre>"
      ],
      "text/plain": [
       "Starting pairwise querying."
      ]
     },
     "metadata": {},
     "output_type": "display_data"
    },
    {
     "data": {
      "text/html": [
       "<pre>+--------------+---------+-------------+--------------+</pre>"
      ],
      "text/plain": [
       "+--------------+---------+-------------+--------------+"
      ]
     },
     "metadata": {},
     "output_type": "display_data"
    },
    {
     "data": {
      "text/html": [
       "<pre>| Query points | # Pairs | % Complete. | Elapsed Time |</pre>"
      ],
      "text/plain": [
       "| Query points | # Pairs | % Complete. | Elapsed Time |"
      ]
     },
     "metadata": {},
     "output_type": "display_data"
    },
    {
     "data": {
      "text/html": [
       "<pre>+--------------+---------+-------------+--------------+</pre>"
      ],
      "text/plain": [
       "+--------------+---------+-------------+--------------+"
      ]
     },
     "metadata": {},
     "output_type": "display_data"
    },
    {
     "data": {
      "text/html": [
       "<pre>| 0            | 1       | 0.0498753   | 4.487ms      |</pre>"
      ],
      "text/plain": [
       "| 0            | 1       | 0.0498753   | 4.487ms      |"
      ]
     },
     "metadata": {},
     "output_type": "display_data"
    },
    {
     "data": {
      "text/html": [
       "<pre>| Done         |         | 100         | 79.482ms     |</pre>"
      ],
      "text/plain": [
       "| Done         |         | 100         | 79.482ms     |"
      ]
     },
     "metadata": {},
     "output_type": "display_data"
    },
    {
     "data": {
      "text/html": [
       "<pre>+--------------+---------+-------------+--------------+</pre>"
      ],
      "text/plain": [
       "+--------------+---------+-------------+--------------+"
      ]
     },
     "metadata": {},
     "output_type": "display_data"
    },
    {
     "data": {
      "text/html": [
       "<html lang=\"en\">                                                     <head>                                                               <style>                                                              .sframe {                                                            font-size: 12px;                                                   font-family: HelveticaNeue;                                        border: 1px solid silver;                                        }                                                                  .sframe thead th {                                                   background: #F7F7F7;                                               font-family: HelveticaNeue-Medium;                                 font-size: 14px;                                                   line-height: 16.8px;                                               padding-top: 16px;                                                 padding-bottom: 16px;                                              padding-left: 10px;                                                padding-right: 38px;                                               border-top: 1px solid #E9E9E9;                                     border-bottom: 1px solid #E9E9E9;                                  white-space: nowrap;                                               overflow: hidden;                                                  text-overflow:ellipsis;                                            text-align:center;                                                 font-weight:normal;                                              }                                                                  .sframe tbody th {                                                   background: #FFFFFF;                                               text-align:left;                                                   font-weight:normal;                                                border-right: 1px solid #E9E9E9;                                 }                                                                  .sframe td {                                                         background: #FFFFFF;                                               padding-left: 10px;                                                padding-right: 38px;                                               padding-top: 14px;                                                 padding-bottom: 14px;                                              border-bottom: 1px solid #E9E9E9;                                  max-height: 0px;                                                   transition: max-height 5s ease-out;                                vertical-align: middle;                                            font-family: HelveticaNeue;                                        font-size: 12px;                                                   line-height: 16.8px;                                               background: #FFFFFF;                                             }                                                                  .sframe tr {                                                         padding-left: 10px;                                                padding-right: 38px;                                               padding-top: 14px;                                                 padding-bottom: 14px;                                              border-bottom: 1px solid #E9E9E9;                                  max-height: 0px;                                                   transition: max-height 5s ease-out;                                vertical-align: middle;                                            font-family: HelveticaNeue;                                        font-size: 12px;                                                   line-height: 16.8px;                                               background: #FFFFFF;                                             }                                                                  .sframe tr:hover {                                                   background: silver;                                              },                                                               </style>                                                         </head>                                                            <body>                                                               <h1>  </h1>                                             <table border=\"1\" class=\"dataframe sframe\">\n",
       "  <thead>\n",
       "    <tr style=\"text-align: right;\">\n",
       "      <th></th>\n",
       "      <th>SArray</th>\n",
       "    </tr>\n",
       "  </thead>\n",
       "  <tbody>\n",
       "    <tr>\n",
       "      <th>0</th>\n",
       "      <td><img src=\"data:image/png;base64,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\"/></td>\n",
       "    </tr>\n",
       "    <tr>\n",
       "      <th>1</th>\n",
       "      <td><img src=\"data:image/png;base64,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\"/></td>\n",
       "    </tr>\n",
       "    <tr>\n",
       "      <th>2</th>\n",
       "      <td><img src=\"data:image/png;base64,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\"/></td>\n",
       "    </tr>\n",
       "    <tr>\n",
       "      <th>3</th>\n",
       "      <td><img src=\"data:image/png;base64,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\"/></td>\n",
       "    </tr>\n",
       "    <tr>\n",
       "      <th>4</th>\n",
       "      <td><img src=\"data:image/png;base64,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\"/></td>\n",
       "    </tr>\n",
       "  </tbody>\n",
       "</table>                          </body>                                                          </html>"
      ],
      "text/plain": [
       "<IPython.core.display.HTML object>"
      ]
     },
     "metadata": {},
     "output_type": "display_data"
    }
   ],
   "source": [
    "get_images_from_ids(knn_model.query(car))['image'].explore()"
   ]
  },
  {
   "cell_type": "markdown",
   "id": "3ad56690",
   "metadata": {},
   "source": [
    "# Create a Lambda function to show nearest neighbour images"
   ]
  },
  {
   "cell_type": "code",
   "execution_count": 20,
   "id": "39169535",
   "metadata": {},
   "outputs": [],
   "source": [
    "show_neighbors = lambda i: get_images_from_ids(knn_model.query(image_train[i:i+1]))['image'].explore()"
   ]
  },
  {
   "cell_type": "code",
   "execution_count": 21,
   "id": "5bfcf899",
   "metadata": {},
   "outputs": [
    {
     "data": {
      "text/html": [
       "<pre>Starting pairwise querying.</pre>"
      ],
      "text/plain": [
       "Starting pairwise querying."
      ]
     },
     "metadata": {},
     "output_type": "display_data"
    },
    {
     "data": {
      "text/html": [
       "<pre>+--------------+---------+-------------+--------------+</pre>"
      ],
      "text/plain": [
       "+--------------+---------+-------------+--------------+"
      ]
     },
     "metadata": {},
     "output_type": "display_data"
    },
    {
     "data": {
      "text/html": [
       "<pre>| Query points | # Pairs | % Complete. | Elapsed Time |</pre>"
      ],
      "text/plain": [
       "| Query points | # Pairs | % Complete. | Elapsed Time |"
      ]
     },
     "metadata": {},
     "output_type": "display_data"
    },
    {
     "data": {
      "text/html": [
       "<pre>+--------------+---------+-------------+--------------+</pre>"
      ],
      "text/plain": [
       "+--------------+---------+-------------+--------------+"
      ]
     },
     "metadata": {},
     "output_type": "display_data"
    },
    {
     "data": {
      "text/html": [
       "<pre>| 0            | 1       | 0.0498753   | 5.659ms      |</pre>"
      ],
      "text/plain": [
       "| 0            | 1       | 0.0498753   | 5.659ms      |"
      ]
     },
     "metadata": {},
     "output_type": "display_data"
    },
    {
     "data": {
      "text/html": [
       "<pre>| Done         |         | 100         | 77.094ms     |</pre>"
      ],
      "text/plain": [
       "| Done         |         | 100         | 77.094ms     |"
      ]
     },
     "metadata": {},
     "output_type": "display_data"
    },
    {
     "data": {
      "text/html": [
       "<pre>+--------------+---------+-------------+--------------+</pre>"
      ],
      "text/plain": [
       "+--------------+---------+-------------+--------------+"
      ]
     },
     "metadata": {},
     "output_type": "display_data"
    },
    {
     "data": {
      "text/html": [
       "<html lang=\"en\">                                                     <head>                                                               <style>                                                              .sframe {                                                            font-size: 12px;                                                   font-family: HelveticaNeue;                                        border: 1px solid silver;                                        }                                                                  .sframe thead th {                                                   background: #F7F7F7;                                               font-family: HelveticaNeue-Medium;                                 font-size: 14px;                                                   line-height: 16.8px;                                               padding-top: 16px;                                                 padding-bottom: 16px;                                              padding-left: 10px;                                                padding-right: 38px;                                               border-top: 1px solid #E9E9E9;                                     border-bottom: 1px solid #E9E9E9;                                  white-space: nowrap;                                               overflow: hidden;                                                  text-overflow:ellipsis;                                            text-align:center;                                                 font-weight:normal;                                              }                                                                  .sframe tbody th {                                                   background: #FFFFFF;                                               text-align:left;                                                   font-weight:normal;                                                border-right: 1px solid #E9E9E9;                                 }                                                                  .sframe td {                                                         background: #FFFFFF;                                               padding-left: 10px;                                                padding-right: 38px;                                               padding-top: 14px;                                                 padding-bottom: 14px;                                              border-bottom: 1px solid #E9E9E9;                                  max-height: 0px;                                                   transition: max-height 5s ease-out;                                vertical-align: middle;                                            font-family: HelveticaNeue;                                        font-size: 12px;                                                   line-height: 16.8px;                                               background: #FFFFFF;                                             }                                                                  .sframe tr {                                                         padding-left: 10px;                                                padding-right: 38px;                                               padding-top: 14px;                                                 padding-bottom: 14px;                                              border-bottom: 1px solid #E9E9E9;                                  max-height: 0px;                                                   transition: max-height 5s ease-out;                                vertical-align: middle;                                            font-family: HelveticaNeue;                                        font-size: 12px;                                                   line-height: 16.8px;                                               background: #FFFFFF;                                             }                                                                  .sframe tr:hover {                                                   background: silver;                                              },                                                               </style>                                                         </head>                                                            <body>                                                               <h1>  </h1>                                             <table border=\"1\" class=\"dataframe sframe\">\n",
       "  <thead>\n",
       "    <tr style=\"text-align: right;\">\n",
       "      <th></th>\n",
       "      <th>SArray</th>\n",
       "    </tr>\n",
       "  </thead>\n",
       "  <tbody>\n",
       "    <tr>\n",
       "      <th>0</th>\n",
       "      <td><img src=\"data:image/png;base64,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\"/></td>\n",
       "    </tr>\n",
       "    <tr>\n",
       "      <th>1</th>\n",
       "      <td><img src=\"data:image/png;base64,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\"/></td>\n",
       "    </tr>\n",
       "    <tr>\n",
       "      <th>2</th>\n",
       "      <td><img src=\"data:image/png;base64,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\"/></td>\n",
       "    </tr>\n",
       "    <tr>\n",
       "      <th>3</th>\n",
       "      <td><img src=\"data:image/png;base64,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\"/></td>\n",
       "    </tr>\n",
       "    <tr>\n",
       "      <th>4</th>\n",
       "      <td><img src=\"data:image/png;base64,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\"/></td>\n",
       "    </tr>\n",
       "  </tbody>\n",
       "</table>                          </body>                                                          </html>"
      ],
      "text/plain": [
       "<IPython.core.display.HTML object>"
      ]
     },
     "metadata": {},
     "output_type": "display_data"
    }
   ],
   "source": [
    "show_neighbors(8)"
   ]
  },
  {
   "cell_type": "code",
   "execution_count": 22,
   "id": "fd1e01d2",
   "metadata": {},
   "outputs": [
    {
     "data": {
      "text/html": [
       "<pre>Starting pairwise querying.</pre>"
      ],
      "text/plain": [
       "Starting pairwise querying."
      ]
     },
     "metadata": {},
     "output_type": "display_data"
    },
    {
     "data": {
      "text/html": [
       "<pre>+--------------+---------+-------------+--------------+</pre>"
      ],
      "text/plain": [
       "+--------------+---------+-------------+--------------+"
      ]
     },
     "metadata": {},
     "output_type": "display_data"
    },
    {
     "data": {
      "text/html": [
       "<pre>| Query points | # Pairs | % Complete. | Elapsed Time |</pre>"
      ],
      "text/plain": [
       "| Query points | # Pairs | % Complete. | Elapsed Time |"
      ]
     },
     "metadata": {},
     "output_type": "display_data"
    },
    {
     "data": {
      "text/html": [
       "<pre>+--------------+---------+-------------+--------------+</pre>"
      ],
      "text/plain": [
       "+--------------+---------+-------------+--------------+"
      ]
     },
     "metadata": {},
     "output_type": "display_data"
    },
    {
     "data": {
      "text/html": [
       "<pre>| 0            | 1       | 0.0498753   | 5.475ms      |</pre>"
      ],
      "text/plain": [
       "| 0            | 1       | 0.0498753   | 5.475ms      |"
      ]
     },
     "metadata": {},
     "output_type": "display_data"
    },
    {
     "data": {
      "text/html": [
       "<pre>| Done         |         | 100         | 75.981ms     |</pre>"
      ],
      "text/plain": [
       "| Done         |         | 100         | 75.981ms     |"
      ]
     },
     "metadata": {},
     "output_type": "display_data"
    },
    {
     "data": {
      "text/html": [
       "<pre>+--------------+---------+-------------+--------------+</pre>"
      ],
      "text/plain": [
       "+--------------+---------+-------------+--------------+"
      ]
     },
     "metadata": {},
     "output_type": "display_data"
    },
    {
     "data": {
      "text/html": [
       "<html lang=\"en\">                                                     <head>                                                               <style>                                                              .sframe {                                                            font-size: 12px;                                                   font-family: HelveticaNeue;                                        border: 1px solid silver;                                        }                                                                  .sframe thead th {                                                   background: #F7F7F7;                                               font-family: HelveticaNeue-Medium;                                 font-size: 14px;                                                   line-height: 16.8px;                                               padding-top: 16px;                                                 padding-bottom: 16px;                                              padding-left: 10px;                                                padding-right: 38px;                                               border-top: 1px solid #E9E9E9;                                     border-bottom: 1px solid #E9E9E9;                                  white-space: nowrap;                                               overflow: hidden;                                                  text-overflow:ellipsis;                                            text-align:center;                                                 font-weight:normal;                                              }                                                                  .sframe tbody th {                                                   background: #FFFFFF;                                               text-align:left;                                                   font-weight:normal;                                                border-right: 1px solid #E9E9E9;                                 }                                                                  .sframe td {                                                         background: #FFFFFF;                                               padding-left: 10px;                                                padding-right: 38px;                                               padding-top: 14px;                                                 padding-bottom: 14px;                                              border-bottom: 1px solid #E9E9E9;                                  max-height: 0px;                                                   transition: max-height 5s ease-out;                                vertical-align: middle;                                            font-family: HelveticaNeue;                                        font-size: 12px;                                                   line-height: 16.8px;                                               background: #FFFFFF;                                             }                                                                  .sframe tr {                                                         padding-left: 10px;                                                padding-right: 38px;                                               padding-top: 14px;                                                 padding-bottom: 14px;                                              border-bottom: 1px solid #E9E9E9;                                  max-height: 0px;                                                   transition: max-height 5s ease-out;                                vertical-align: middle;                                            font-family: HelveticaNeue;                                        font-size: 12px;                                                   line-height: 16.8px;                                               background: #FFFFFF;                                             }                                                                  .sframe tr:hover {                                                   background: silver;                                              },                                                               </style>                                                         </head>                                                            <body>                                                               <h1>  </h1>                                             <table border=\"1\" class=\"dataframe sframe\">\n",
       "  <thead>\n",
       "    <tr style=\"text-align: right;\">\n",
       "      <th></th>\n",
       "      <th>SArray</th>\n",
       "    </tr>\n",
       "  </thead>\n",
       "  <tbody>\n",
       "    <tr>\n",
       "      <th>0</th>\n",
       "      <td><img src=\"data:image/png;base64,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\"/></td>\n",
       "    </tr>\n",
       "    <tr>\n",
       "      <th>1</th>\n",
       "      <td><img src=\"data:image/png;base64,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\"/></td>\n",
       "    </tr>\n",
       "    <tr>\n",
       "      <th>2</th>\n",
       "      <td><img src=\"data:image/png;base64,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\"/></td>\n",
       "    </tr>\n",
       "    <tr>\n",
       "      <th>3</th>\n",
       "      <td><img src=\"data:image/png;base64,iVBORw0KGgoAAAANSUhEUgAAACAAAAAgCAIAAAD8GO2jAAAJD0lEQVR4nC3WSZYkx3GAYTNz95gjMrOysoburm400ARIPEIbPXKlO+hQuoQuoTtITyuJBNB8GJo9o+bKyiEy5vBwd3MtqAv8m2/z43/8+7/NAp7FUoZRkM6FVN6MrLuhKtu69UiTkBiGdVn99MtbiGZ7iz+8flOu99ZNs0X+5OJ8uVpEaXx0ev7s5UsZKKsnP9lPb959/18/9M0oXz6/4KExQ9OVNVRtnM2kFF1Zt1UjpJIqoTTHYrY8vvjDbLWtuqu/vTHOyjAQIOI8C5NYBIqklEpJKYkIABExSVOpFMAoF8dn5FdOD0Nbt/Wh3B/CQFltxslFInFWJOnKp/Our/LTZ7W969ouDsJgHgL6MAo9gif0+I8sIiIzO2OiMEySuC1bCaTAK5RCRZx5HrXe7raSJFOwawbthvPFmcfBOPZggf3Z6sjoabI0WeO8q5vBI87m4IyxWqMBZCOJhfBBGKKQUqF3hsFYwezJp5HYmKky06E37367CpIIl/PUdkWe1XXZ7O4J+ih0IIlsBICE1NeD0dN8dsR6ms/yMEsE+Vs9MHhGlN45thPbgd3kHfthSAAfy/Lt55teCC+TXVeCMpM5NOXhsL1PJc3iwFRjICNCOQx9iK5I09liEcRJlBZ5mpTlflt2fT8iomRrPA/O9nYcxr4D585PjzuLi6oH6zyp9XrTlrvTk7MknV28iKRUJ0378Ljt+8lMLlDkvUniwJpR68G7YrPefv/Xv15+uhyGkYgkeu95YjeaaYyCMCtOjDNyW02TbpoxRBmA2O07SUP25RMQnC1Xr1ZH1W7dt4Oz0HXt4+Z+f9j6qQfdtiX98JcfP3/87CZma4mEnMbGTiOzi9MkjlK02mmuq2GzPbggso6H0cQy7nutjXny4lnVd9vy/ulqjmfnvca3Hz4G8+VMinq3fri5qbv25vZuebQ4bBtwloCkHeowijGKZRACoNW63FXbzY6tj4skzrMoSdIoDgJhzdDsHzfrte7rZnl0aG1cnEZJ1jT0cHdfbTYkoR7aKErSvHi8P3gGQpRm7JN8JqMUAJ2d0PNhv6vKXRJIZ40wZpany/OzZ+dPlrP52HUXp8/3m8ft43o5X5Rte3d7fX35sS5L9CC8IBJJklnHWhsiRPDSgJhAShGgHWGoh6bc7zcS4eL8zIgA4zAPwyQIoiAEEMvjsyRJgyA7PX95dLJ8+/Ft/2sLaBbzfBxd1dZRFmVpMdSjNU4I6ZkpyI+HyVtrvO642918fvdwdycRAoSjPM2V9MOA2oQklQomht7y/OxJOFv8dnfX6j6bpSdnK0CvRw0AcZLGSTppy+wBPQDLYnHSNoehPmQwltvN5cffdK9lnMeRcqbTQ5+Hp2wnIBahtM6PWg/juNk9vnv7q+7autyV293m4XE0nM2LJE0AoO8HZgRCAE8iDvPZXJDqe3t5+XD1sK0tV9ZqiWqWckQiFIK8ZwveWKvbpjTTMCvS5dGRHseqqvt2tB7jIluero5Wxx58P/TgvWfP7KWehjhMwuVpZdymsdvOccgigL48PJvlJlSX99fzYaj6uliu4rTQ/bR+fAyjkIgmrauqGQYdJdnxxdlidRTFSVN14zAiADMzs3T9ODjKsll2fvHNn//lYMTtw6PKc0pCL2SxXOZZGgpVZFEYEPB0fDxr6v27d2/CMGqarut7xz7Li/nJKp1nAlCbSWtNjjyiZ5bI09T1g+3CKH/61at/ffrFzeern96+2fe1GaY0zpan54vFAlWgotgxlvtqcTT/+vevrm7uO60ZidkSoBJSoSCPbnLOsnNI5AFQykDYZl/efgqjefLkRX68nM0LyoMPV79RHKCSrXMxCOlFW7b/0BOKUKmq60HK1emqO5TE/bh7oDERANJ0izwwGhCAvZdKhkF2zJv+l798z8mvL777p/npWZQFv/vD7/Ll8tP1VVvXRFTk+X271np6+fIra8xmvRFevLi4CANa3wJPjZh2Zno04JcpFd+udG/ZOWYnq93DYrZ69vxrO/j//J//fn/3sDh9GkSBnsa0yBAxKPIoig5VxczHx0sAaOrK9l0eqW9efcls2mqr634ekhTk0QGitejSgMCDZ2mnuh+yMDi6+PrbV0Pz+vqa54ukSJVuHm8vBVjRZVaIzXb/5te/W8fPnj1X4MrNrYwStjrJsuXypJw0cC8VeSIgRIHoPHkGT/KoWHoDXbczxPuxl3Gyb+qyb159+fwilc3minm6evfz7bqXKv3qm6dBGK1vrvqpjYibakPorbFtPyKOJCWwFYSEQnlyzOydHIZmff3p8+X7Ad2mc9nqoigWo7Xv33+YhXaVKikCT+Llq3+mKHY4Tnqqd8pkgRDw808/AgT94Np6P1eDpIVS4IAJCFg4QPZevv7lfxWIdA6TNpmMSBIgffHixXLx7fb6Ddd31mNv3Prjh8l7bQ5umkJyJ4tYKfX3t5dNMwmZgBlUCKESYUjoGRicAWAkIDlbFJEUJIzSU/cw7quKm4mBI3mqkEF4AFgcH8dFEsQRUX93fTkdtjn6Ig3mf/yy6fqmHbxP0yiMA0FovTPOMgkQAhm8TNKU2DiwziF6maVpmC2KWSGRlQQIJYlkfvLSQvTj69d1+ZAqmsfhLPIJYRxRqsJljh6Fs8JZaw07dkQkAgIk65z0ACDFOMib2/2mNNEswCgB8Mgjuo6iIAqOq32zPrwf+v1Yj4Hk/CQqFhEiWGNIBJKldY4FspRGhsopACAi8uSMlVJIPdn3nzfvr8tmUlRtlyP2XVuKwxcnYTqbgVTdvr6/v9PaZVmS0hjHSOC9Y4EICCikktKyZ8lSkmfvAcB7YCAEKSXpCfdl/bjZHgavx+n25vNyIf707WlAp9ttVWu33jbX1/fWiUyqeCWVCoAteEYPSCgEOcceGZkBPBIgIntg8ChJOj+Eofru918kWfLh+saZMI7DJyfhN8/mMbhfPq1//tRoFt2k2cuOO9TmfPEkLWL0HhERANmhZ4nEggj//1EBgBU65+Su6tt2CKL4uz9e/PlPrwRJRPC+l250hhAfm3Iz+hxUaKwB0EmUxnEShAEhAID3HgDQMSAAgHMEAADE7KUQLNX/AT5ezn+pqxA6AAAAAElFTkSuQmCC\"/></td>\n",
       "    </tr>\n",
       "    <tr>\n",
       "      <th>4</th>\n",
       "      <td><img src=\"data:image/png;base64,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\"/></td>\n",
       "    </tr>\n",
       "  </tbody>\n",
       "</table>                          </body>                                                          </html>"
      ],
      "text/plain": [
       "<IPython.core.display.HTML object>"
      ]
     },
     "metadata": {},
     "output_type": "display_data"
    }
   ],
   "source": [
    "show_neighbors(4)"
   ]
  },
  {
   "cell_type": "code",
   "execution_count": null,
   "id": "c5c7f303",
   "metadata": {},
   "outputs": [],
   "source": []
  }
 ],
 "metadata": {
  "kernelspec": {
   "display_name": "Python 3",
   "language": "python",
   "name": "python3"
  },
  "language_info": {
   "codemirror_mode": {
    "name": "ipython",
    "version": 3
   },
   "file_extension": ".py",
   "mimetype": "text/x-python",
   "name": "python",
   "nbconvert_exporter": "python",
   "pygments_lexer": "ipython3",
   "version": "3.6.9"
  }
 },
 "nbformat": 4,
 "nbformat_minor": 5
}
